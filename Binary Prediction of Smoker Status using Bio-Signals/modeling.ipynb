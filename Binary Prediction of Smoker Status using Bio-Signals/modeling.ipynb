{
 "cells": [
  {
   "cell_type": "code",
   "execution_count": 8,
   "metadata": {},
   "outputs": [
    {
     "data": {
      "text/html": [
       "<div>\n",
       "<style scoped>\n",
       "    .dataframe tbody tr th:only-of-type {\n",
       "        vertical-align: middle;\n",
       "    }\n",
       "\n",
       "    .dataframe tbody tr th {\n",
       "        vertical-align: top;\n",
       "    }\n",
       "\n",
       "    .dataframe thead th {\n",
       "        text-align: right;\n",
       "    }\n",
       "</style>\n",
       "<table border=\"1\" class=\"dataframe\">\n",
       "  <thead>\n",
       "    <tr style=\"text-align: right;\">\n",
       "      <th></th>\n",
       "      <th>id</th>\n",
       "      <th>age</th>\n",
       "      <th>height(cm)</th>\n",
       "      <th>weight(kg)</th>\n",
       "      <th>waist(cm)</th>\n",
       "      <th>eyesight(left)</th>\n",
       "      <th>eyesight(right)</th>\n",
       "      <th>hearing(left)</th>\n",
       "      <th>hearing(right)</th>\n",
       "      <th>systolic</th>\n",
       "      <th>...</th>\n",
       "      <th>HDL</th>\n",
       "      <th>LDL</th>\n",
       "      <th>hemoglobin</th>\n",
       "      <th>Urine protein</th>\n",
       "      <th>serum creatinine</th>\n",
       "      <th>AST</th>\n",
       "      <th>ALT</th>\n",
       "      <th>Gtp</th>\n",
       "      <th>dental caries</th>\n",
       "      <th>smoking</th>\n",
       "    </tr>\n",
       "  </thead>\n",
       "  <tbody>\n",
       "    <tr>\n",
       "      <th>0</th>\n",
       "      <td>0</td>\n",
       "      <td>55</td>\n",
       "      <td>165</td>\n",
       "      <td>60</td>\n",
       "      <td>81.0</td>\n",
       "      <td>0.5</td>\n",
       "      <td>0.6</td>\n",
       "      <td>1</td>\n",
       "      <td>1</td>\n",
       "      <td>135</td>\n",
       "      <td>...</td>\n",
       "      <td>40</td>\n",
       "      <td>75</td>\n",
       "      <td>16.5</td>\n",
       "      <td>1</td>\n",
       "      <td>1.0</td>\n",
       "      <td>22</td>\n",
       "      <td>25</td>\n",
       "      <td>27</td>\n",
       "      <td>0</td>\n",
       "      <td>1</td>\n",
       "    </tr>\n",
       "  </tbody>\n",
       "</table>\n",
       "<p>1 rows × 24 columns</p>\n",
       "</div>"
      ],
      "text/plain": [
       "   id  age  height(cm)  weight(kg)  waist(cm)  eyesight(left)  \\\n",
       "0   0   55         165          60       81.0             0.5   \n",
       "\n",
       "   eyesight(right)  hearing(left)  hearing(right)  systolic  ...  HDL  LDL  \\\n",
       "0              0.6              1               1       135  ...   40   75   \n",
       "\n",
       "   hemoglobin  Urine protein  serum creatinine  AST  ALT  Gtp  dental caries  \\\n",
       "0        16.5              1               1.0   22   25   27              0   \n",
       "\n",
       "   smoking  \n",
       "0        1  \n",
       "\n",
       "[1 rows x 24 columns]"
      ]
     },
     "execution_count": 8,
     "metadata": {},
     "output_type": "execute_result"
    }
   ],
   "source": [
    "import pandas as pd\n",
    "import numpy as np\n",
    "import matplotlib.pyplot as plt\n",
    "import seaborn as sns\n",
    "from sklearn.model_selection import train_test_split\n",
    "data = pd.read_csv('train.csv')\n",
    "data.head(1)"
   ]
  },
  {
   "cell_type": "code",
   "execution_count": 9,
   "metadata": {},
   "outputs": [
    {
     "data": {
      "text/plain": [
       "\"plt.figure(figsize=(20, 24))\\nnum_rows = 8\\nnum_cols = 3\\n\\nfor i, column in enumerate(data.columns):\\n    plt.subplot(num_rows, num_cols, i + 1)\\n    sns.histplot(data=data, x=column, hue='smoking', kde=True)\\n    plt.title(f'Distribution of {column} by Smoking Status')\\n\\nplt.tight_layout()\\nplt.show()\""
      ]
     },
     "execution_count": 9,
     "metadata": {},
     "output_type": "execute_result"
    }
   ],
   "source": [
    "'''plt.figure(figsize=(20, 24))\n",
    "num_rows = 8\n",
    "num_cols = 3\n",
    "\n",
    "for i, column in enumerate(data.columns):\n",
    "    plt.subplot(num_rows, num_cols, i + 1)\n",
    "    sns.histplot(data=data, x=column, hue='smoking', kde=True)\n",
    "    plt.title(f'Distribution of {column} by Smoking Status')\n",
    "\n",
    "plt.tight_layout()\n",
    "plt.show()'''"
   ]
  },
  {
   "cell_type": "code",
   "execution_count": 10,
   "metadata": {},
   "outputs": [],
   "source": [
    "# it is very clear from the distributions that a person who smokes has much lower indicators,\n",
    "# and you can clearly see the difference between a smoker and a non-smoker\n",
    "# the data is not normally distributed, so we need to do some transformation\n",
    "# Data Preprocessing"
   ]
  },
  {
   "cell_type": "code",
   "execution_count": 11,
   "metadata": {},
   "outputs": [
    {
     "data": {
      "text/plain": [
       "\"# Age\\ndata['age'] = (np.round(data['age'] / 5) * 5).astype(int)\\n# height(cm)\\ndata['height(cm)'] = (np.round(data['height(cm)'] / 5) * 5).astype(int)\\n# weight(kg) don't believe in the data 30 kg - 14 people\\ndata['weight(kg)'] = (np.round(data['weight(kg)'] / 5) * 5).astype(int)\\n# waist(cm)\\ndata['waist(cm)'] = data['waist(cm)'].round().astype(int)\\n# eyesight(left), eyesight(right)\\ndata[['eyesight(left)', 'eyesight(right)']] = data[['eyesight(left)', 'eyesight(right)']].applymap(lambda x: x if x <= 2.0 else pd.NA)\\ndata[['eyesight(left)', 'eyesight(right)']] = data[['eyesight(left)', 'eyesight(right)']].fillna(method='ffill')\\n# systolic\\ndata['systolic'] = (data['systolic'] // 5) * 5\\n# relaxation\\ndata['relaxation']=(data['relaxation'] // 5) * 5\\n# fasting blood sugar\\nquantile_99 = data['fasting blood sugar'].quantile(0.99)\\ndata['fasting blood sugar'] = data['fasting blood sugar'].apply(lambda x: x if x <= quantile_99 else pd.NA)\\ndata['fasting blood sugar'] = data['fasting blood sugar'].fillna(method='ffill')\\n# triglyceride\\ndata['triglyceride'] = (data['triglyceride'] // 5) * 5\\n# serum creatinine\\ndata['serum creatinine'] = data['serum creatinine'].apply(lambda x: x if x <= 3.0 else pd.NA)\\ndata['serum creatinine'] = data['serum creatinine'].fillna(method='ffill')\\n# AST\\nAST_quantile_99 = data['AST'].quantile(0.99)\\ndata['AST'] = data['AST'].apply(lambda x: x if x <= AST_quantile_99 else pd.NA)\\ndata['AST'] = data['AST'].fillna(method='ffill')\\n# ALT\\nALT_quantile_99 = data['ALT'].quantile(0.99)\\ndata['ALT'] = data['ALT'].apply(lambda x: x if x <= ALT_quantile_99 else pd.NA)\\ndata['ALT'] = data['ALT'].fillna(method='ffill')\\n# Gtp\\nGtp_quantile_99 = data['ALT'].quantile(0.99)\\ndata['Gtp'] = data['Gtp'].apply(lambda x: x if x <= Gtp_quantile_99 else pd.NA)\\ndata['Gtp'] = data['Gtp'].fillna(method='ffill')\""
      ]
     },
     "execution_count": 11,
     "metadata": {},
     "output_type": "execute_result"
    }
   ],
   "source": [
    "'''# Age\n",
    "data['age'] = (np.round(data['age'] / 5) * 5).astype(int)\n",
    "# height(cm)\n",
    "data['height(cm)'] = (np.round(data['height(cm)'] / 5) * 5).astype(int)\n",
    "# weight(kg) don't believe in the data 30 kg - 14 people\n",
    "data['weight(kg)'] = (np.round(data['weight(kg)'] / 5) * 5).astype(int)\n",
    "# waist(cm)\n",
    "data['waist(cm)'] = data['waist(cm)'].round().astype(int)\n",
    "# eyesight(left), eyesight(right)\n",
    "data[['eyesight(left)', 'eyesight(right)']] = data[['eyesight(left)', 'eyesight(right)']].applymap(lambda x: x if x <= 2.0 else pd.NA)\n",
    "data[['eyesight(left)', 'eyesight(right)']] = data[['eyesight(left)', 'eyesight(right)']].fillna(method='ffill')\n",
    "# systolic\n",
    "data['systolic'] = (data['systolic'] // 5) * 5\n",
    "# relaxation\n",
    "data['relaxation']=(data['relaxation'] // 5) * 5\n",
    "# fasting blood sugar\n",
    "quantile_99 = data['fasting blood sugar'].quantile(0.99)\n",
    "data['fasting blood sugar'] = data['fasting blood sugar'].apply(lambda x: x if x <= quantile_99 else pd.NA)\n",
    "data['fasting blood sugar'] = data['fasting blood sugar'].fillna(method='ffill')\n",
    "# triglyceride\n",
    "data['triglyceride'] = (data['triglyceride'] // 5) * 5\n",
    "# serum creatinine\n",
    "data['serum creatinine'] = data['serum creatinine'].apply(lambda x: x if x <= 3.0 else pd.NA)\n",
    "data['serum creatinine'] = data['serum creatinine'].fillna(method='ffill')\n",
    "# AST\n",
    "AST_quantile_99 = data['AST'].quantile(0.99)\n",
    "data['AST'] = data['AST'].apply(lambda x: x if x <= AST_quantile_99 else pd.NA)\n",
    "data['AST'] = data['AST'].fillna(method='ffill')\n",
    "# ALT\n",
    "ALT_quantile_99 = data['ALT'].quantile(0.99)\n",
    "data['ALT'] = data['ALT'].apply(lambda x: x if x <= ALT_quantile_99 else pd.NA)\n",
    "data['ALT'] = data['ALT'].fillna(method='ffill')\n",
    "# Gtp\n",
    "Gtp_quantile_99 = data['ALT'].quantile(0.99)\n",
    "data['Gtp'] = data['Gtp'].apply(lambda x: x if x <= Gtp_quantile_99 else pd.NA)\n",
    "data['Gtp'] = data['Gtp'].fillna(method='ffill')'''"
   ]
  },
  {
   "cell_type": "code",
   "execution_count": 12,
   "metadata": {},
   "outputs": [],
   "source": [
    "def preprocess_data(input_data):\n",
    "    # Age\n",
    "    input_data['age'] = (np.round(input_data['age'] / 5) * 5).astype(int)\n",
    "    # height(cm)\n",
    "    input_data['height(cm)'] = (np.round(input_data['height(cm)'] / 5) * 5).astype(int)\n",
    "    # weight(kg)\n",
    "    input_data['weight(kg)'] = (np.round(input_data['weight(kg)'] / 5) * 5).astype(int)\n",
    "    # waist(cm)\n",
    "    input_data['waist(cm)'] = input_data['waist(cm)'].round().astype(int)\n",
    "    # eyesight(left), eyesight(right)\n",
    "    input_data[['eyesight(left)', 'eyesight(right)']] = input_data[['eyesight(left)', 'eyesight(right)']].map(lambda x: x if x <= 2.0 else pd.NA)\n",
    "    input_data[['eyesight(left)', 'eyesight(right)']] = input_data[['eyesight(left)', 'eyesight(right)']].ffill()\n",
    "    # systolic\n",
    "    input_data['systolic'] = (input_data['systolic'] // 5) * 5\n",
    "    # relaxation\n",
    "    input_data['relaxation'] = (input_data['relaxation'] // 5) * 5\n",
    "    # fasting blood sugar\n",
    "    quantile_99 = input_data['fasting blood sugar'].quantile(0.99)\n",
    "    input_data['fasting blood sugar'] = input_data['fasting blood sugar'].map(lambda x: x if x <= quantile_99 else pd.NA)\n",
    "    input_data['fasting blood sugar'] = input_data['fasting blood sugar'].ffill()\n",
    "    # triglyceride\n",
    "    input_data['triglyceride'] = (input_data['triglyceride'] // 5) * 5\n",
    "    # serum creatinine\n",
    "    input_data['serum creatinine'] = input_data['serum creatinine'].map(lambda x: x if x <= 3.0 else pd.NA)\n",
    "    input_data['serum creatinine'] = input_data['serum creatinine'].ffill()\n",
    "    # AST\n",
    "    AST_quantile_99 = input_data['AST'].quantile(0.99)\n",
    "    input_data['AST'] = input_data['AST'].map(lambda x: x if x <= AST_quantile_99 else pd.NA)\n",
    "    input_data['AST'] = input_data['AST'].ffill()\n",
    "    # ALT\n",
    "    ALT_quantile_99 = input_data['ALT'].quantile(0.99)\n",
    "    input_data['ALT'] = input_data['ALT'].map(lambda x: x if x <= ALT_quantile_99 else pd.NA)\n",
    "    input_data['ALT'] = input_data['ALT'].ffill()\n",
    "    # Gtp\n",
    "    Gtp_quantile_99 = input_data['Gtp'].quantile(0.99)\n",
    "    input_data['Gtp'] = input_data['Gtp'].map(lambda x: x if x <= Gtp_quantile_99 else pd.NA)\n",
    "    input_data['Gtp'] = input_data['Gtp'].ffill()\n",
    "    \n",
    "    return input_data\n"
   ]
  },
  {
   "cell_type": "code",
   "execution_count": 13,
   "metadata": {},
   "outputs": [],
   "source": [
    "data = preprocess_data(data)\n",
    "X=data.drop(['smoking'], axis=1)\n",
    "y=data['smoking']\n",
    "X_train, X_test, y_train, y_test = train_test_split(\n",
    "    X, y, test_size=0.3, random_state=0)"
   ]
  },
  {
   "cell_type": "code",
   "execution_count": 14,
   "metadata": {},
   "outputs": [
    {
     "ename": "AttributeError",
     "evalue": "'Flags' object has no attribute 'c_contiguous'",
     "output_type": "error",
     "traceback": [
      "\u001b[1;31m---------------------------------------------------------------------------\u001b[0m",
      "\u001b[1;31mAttributeError\u001b[0m                            Traceback (most recent call last)",
      "\u001b[1;32mc:\\Users\\alogi\\OneDrive\\Рабочий стол\\GitHub\\Projects_for_Kaggle\\Binary Prediction of Smoker Status using Bio-Signals\\modeling.ipynb Ячейка 7\u001b[0m line \u001b[0;36m5\n\u001b[0;32m      <a href='vscode-notebook-cell:/c%3A/Users/alogi/OneDrive/%D0%A0%D0%B0%D0%B1%D0%BE%D1%87%D0%B8%D0%B9%20%D1%81%D1%82%D0%BE%D0%BB/GitHub/Projects_for_Kaggle/Binary%20Prediction%20of%20Smoker%20Status%20using%20Bio-Signals/modeling.ipynb#W6sZmlsZQ%3D%3D?line=2'>3</a>\u001b[0m model\u001b[39m=\u001b[39mKNeighborsClassifier(n_neighbors\u001b[39m=\u001b[39m\u001b[39m5\u001b[39m)\n\u001b[0;32m      <a href='vscode-notebook-cell:/c%3A/Users/alogi/OneDrive/%D0%A0%D0%B0%D0%B1%D0%BE%D1%87%D0%B8%D0%B9%20%D1%81%D1%82%D0%BE%D0%BB/GitHub/Projects_for_Kaggle/Binary%20Prediction%20of%20Smoker%20Status%20using%20Bio-Signals/modeling.ipynb#W6sZmlsZQ%3D%3D?line=3'>4</a>\u001b[0m model\u001b[39m.\u001b[39mfit(X_train, y_train)\n\u001b[1;32m----> <a href='vscode-notebook-cell:/c%3A/Users/alogi/OneDrive/%D0%A0%D0%B0%D0%B1%D0%BE%D1%87%D0%B8%D0%B9%20%D1%81%D1%82%D0%BE%D0%BB/GitHub/Projects_for_Kaggle/Binary%20Prediction%20of%20Smoker%20Status%20using%20Bio-Signals/modeling.ipynb#W6sZmlsZQ%3D%3D?line=4'>5</a>\u001b[0m y_pred\u001b[39m=\u001b[39mmodel\u001b[39m.\u001b[39mpredict(X_test)\n\u001b[0;32m      <a href='vscode-notebook-cell:/c%3A/Users/alogi/OneDrive/%D0%A0%D0%B0%D0%B1%D0%BE%D1%87%D0%B8%D0%B9%20%D1%81%D1%82%D0%BE%D0%BB/GitHub/Projects_for_Kaggle/Binary%20Prediction%20of%20Smoker%20Status%20using%20Bio-Signals/modeling.ipynb#W6sZmlsZQ%3D%3D?line=5'>6</a>\u001b[0m \u001b[39mprint\u001b[39m(accuracy_score(y_test, y_pred))\n",
      "File \u001b[1;32mc:\\Users\\alogi\\anaconda3\\Lib\\site-packages\\sklearn\\neighbors\\_classification.py:246\u001b[0m, in \u001b[0;36mKNeighborsClassifier.predict\u001b[1;34m(self, X)\u001b[0m\n\u001b[0;32m    244\u001b[0m check_is_fitted(\u001b[39mself\u001b[39m, \u001b[39m\"\u001b[39m\u001b[39m_fit_method\u001b[39m\u001b[39m\"\u001b[39m)\n\u001b[0;32m    245\u001b[0m \u001b[39mif\u001b[39;00m \u001b[39mself\u001b[39m\u001b[39m.\u001b[39mweights \u001b[39m==\u001b[39m \u001b[39m\"\u001b[39m\u001b[39muniform\u001b[39m\u001b[39m\"\u001b[39m:\n\u001b[1;32m--> 246\u001b[0m     \u001b[39mif\u001b[39;00m \u001b[39mself\u001b[39m\u001b[39m.\u001b[39m_fit_method \u001b[39m==\u001b[39m \u001b[39m\"\u001b[39m\u001b[39mbrute\u001b[39m\u001b[39m\"\u001b[39m \u001b[39mand\u001b[39;00m ArgKminClassMode\u001b[39m.\u001b[39mis_usable_for(\n\u001b[0;32m    247\u001b[0m         X, \u001b[39mself\u001b[39m\u001b[39m.\u001b[39m_fit_X, \u001b[39mself\u001b[39m\u001b[39m.\u001b[39mmetric\n\u001b[0;32m    248\u001b[0m     ):\n\u001b[0;32m    249\u001b[0m         probabilities \u001b[39m=\u001b[39m \u001b[39mself\u001b[39m\u001b[39m.\u001b[39mpredict_proba(X)\n\u001b[0;32m    250\u001b[0m         \u001b[39mif\u001b[39;00m \u001b[39mself\u001b[39m\u001b[39m.\u001b[39moutputs_2d_:\n",
      "File \u001b[1;32mc:\\Users\\alogi\\anaconda3\\Lib\\site-packages\\sklearn\\metrics\\_pairwise_distances_reduction\\_dispatcher.py:471\u001b[0m, in \u001b[0;36mArgKminClassMode.is_usable_for\u001b[1;34m(cls, X, Y, metric)\u001b[0m\n\u001b[0;32m    448\u001b[0m \u001b[39m@classmethod\u001b[39m\n\u001b[0;32m    449\u001b[0m \u001b[39mdef\u001b[39;00m \u001b[39mis_usable_for\u001b[39m(\u001b[39mcls\u001b[39m, X, Y, metric) \u001b[39m-\u001b[39m\u001b[39m>\u001b[39m \u001b[39mbool\u001b[39m:\n\u001b[0;32m    450\u001b[0m \u001b[39m    \u001b[39m\u001b[39m\"\"\"Return True if the dispatcher can be used for the given parameters.\u001b[39;00m\n\u001b[0;32m    451\u001b[0m \n\u001b[0;32m    452\u001b[0m \u001b[39m    Parameters\u001b[39;00m\n\u001b[1;32m   (...)\u001b[0m\n\u001b[0;32m    468\u001b[0m \u001b[39m    True if the PairwiseDistancesReduction can be used, else False.\u001b[39;00m\n\u001b[0;32m    469\u001b[0m \u001b[39m    \"\"\"\u001b[39;00m\n\u001b[0;32m    470\u001b[0m     \u001b[39mreturn\u001b[39;00m (\n\u001b[1;32m--> 471\u001b[0m         ArgKmin\u001b[39m.\u001b[39mis_usable_for(X, Y, metric)\n\u001b[0;32m    472\u001b[0m         \u001b[39m# TODO: Support CSR matrices.\u001b[39;00m\n\u001b[0;32m    473\u001b[0m         \u001b[39mand\u001b[39;00m \u001b[39mnot\u001b[39;00m issparse(X)\n\u001b[0;32m    474\u001b[0m         \u001b[39mand\u001b[39;00m \u001b[39mnot\u001b[39;00m issparse(Y)\n\u001b[0;32m    475\u001b[0m         \u001b[39m# TODO: implement Euclidean specialization with GEMM.\u001b[39;00m\n\u001b[0;32m    476\u001b[0m         \u001b[39mand\u001b[39;00m metric \u001b[39mnot\u001b[39;00m \u001b[39min\u001b[39;00m (\u001b[39m\"\u001b[39m\u001b[39meuclidean\u001b[39m\u001b[39m\"\u001b[39m, \u001b[39m\"\u001b[39m\u001b[39msqeuclidean\u001b[39m\u001b[39m\"\u001b[39m)\n\u001b[0;32m    477\u001b[0m     )\n",
      "File \u001b[1;32mc:\\Users\\alogi\\anaconda3\\Lib\\site-packages\\sklearn\\metrics\\_pairwise_distances_reduction\\_dispatcher.py:115\u001b[0m, in \u001b[0;36mBaseDistancesReductionDispatcher.is_usable_for\u001b[1;34m(cls, X, Y, metric)\u001b[0m\n\u001b[0;32m    101\u001b[0m \u001b[39mdef\u001b[39;00m \u001b[39mis_valid_sparse_matrix\u001b[39m(X):\n\u001b[0;32m    102\u001b[0m     \u001b[39mreturn\u001b[39;00m (\n\u001b[0;32m    103\u001b[0m         isspmatrix_csr(X)\n\u001b[0;32m    104\u001b[0m         \u001b[39mand\u001b[39;00m\n\u001b[1;32m   (...)\u001b[0m\n\u001b[0;32m    110\u001b[0m         X\u001b[39m.\u001b[39mindices\u001b[39m.\u001b[39mdtype \u001b[39m==\u001b[39m X\u001b[39m.\u001b[39mindptr\u001b[39m.\u001b[39mdtype \u001b[39m==\u001b[39m np\u001b[39m.\u001b[39mint32\n\u001b[0;32m    111\u001b[0m     )\n\u001b[0;32m    113\u001b[0m is_usable \u001b[39m=\u001b[39m (\n\u001b[0;32m    114\u001b[0m     get_config()\u001b[39m.\u001b[39mget(\u001b[39m\"\u001b[39m\u001b[39menable_cython_pairwise_dist\u001b[39m\u001b[39m\"\u001b[39m, \u001b[39mTrue\u001b[39;00m)\n\u001b[1;32m--> 115\u001b[0m     \u001b[39mand\u001b[39;00m (is_numpy_c_ordered(X) \u001b[39mor\u001b[39;00m is_valid_sparse_matrix(X))\n\u001b[0;32m    116\u001b[0m     \u001b[39mand\u001b[39;00m (is_numpy_c_ordered(Y) \u001b[39mor\u001b[39;00m is_valid_sparse_matrix(Y))\n\u001b[0;32m    117\u001b[0m     \u001b[39mand\u001b[39;00m X\u001b[39m.\u001b[39mdtype \u001b[39m==\u001b[39m Y\u001b[39m.\u001b[39mdtype\n\u001b[0;32m    118\u001b[0m     \u001b[39mand\u001b[39;00m X\u001b[39m.\u001b[39mdtype \u001b[39min\u001b[39;00m (np\u001b[39m.\u001b[39mfloat32, np\u001b[39m.\u001b[39mfloat64)\n\u001b[0;32m    119\u001b[0m     \u001b[39mand\u001b[39;00m metric \u001b[39min\u001b[39;00m \u001b[39mcls\u001b[39m\u001b[39m.\u001b[39mvalid_metrics()\n\u001b[0;32m    120\u001b[0m )\n\u001b[0;32m    122\u001b[0m \u001b[39mreturn\u001b[39;00m is_usable\n",
      "File \u001b[1;32mc:\\Users\\alogi\\anaconda3\\Lib\\site-packages\\sklearn\\metrics\\_pairwise_distances_reduction\\_dispatcher.py:99\u001b[0m, in \u001b[0;36mBaseDistancesReductionDispatcher.is_usable_for.<locals>.is_numpy_c_ordered\u001b[1;34m(X)\u001b[0m\n\u001b[0;32m     98\u001b[0m \u001b[39mdef\u001b[39;00m \u001b[39mis_numpy_c_ordered\u001b[39m(X):\n\u001b[1;32m---> 99\u001b[0m     \u001b[39mreturn\u001b[39;00m \u001b[39mhasattr\u001b[39m(X, \u001b[39m\"\u001b[39m\u001b[39mflags\u001b[39m\u001b[39m\"\u001b[39m) \u001b[39mand\u001b[39;00m X\u001b[39m.\u001b[39mflags\u001b[39m.\u001b[39mc_contiguous\n",
      "\u001b[1;31mAttributeError\u001b[0m: 'Flags' object has no attribute 'c_contiguous'"
     ]
    }
   ],
   "source": [
    "from sklearn.neighbors import KNeighborsClassifier\n",
    "from sklearn.metrics import accuracy_score\n",
    "model=KNeighborsClassifier(n_neighbors=5)\n",
    "model.fit(X_train, y_train)\n",
    "y_pred=model.predict(X_test)\n",
    "print(accuracy_score(y_test, y_pred))"
   ]
  },
  {
   "cell_type": "code",
   "execution_count": null,
   "metadata": {},
   "outputs": [],
   "source": [
    "# Data Splitting"
   ]
  }
 ],
 "metadata": {
  "kernelspec": {
   "display_name": "base",
   "language": "python",
   "name": "python3"
  },
  "language_info": {
   "codemirror_mode": {
    "name": "ipython",
    "version": 3
   },
   "file_extension": ".py",
   "mimetype": "text/x-python",
   "name": "python",
   "nbconvert_exporter": "python",
   "pygments_lexer": "ipython3",
   "version": "3.11.5"
  }
 },
 "nbformat": 4,
 "nbformat_minor": 2
}
